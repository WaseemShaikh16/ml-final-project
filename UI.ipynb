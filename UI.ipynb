{
 "cells": [
  {
   "cell_type": "code",
   "execution_count": 2,
   "metadata": {},
   "outputs": [],
   "source": [
    "import tkinter as tk\n",
    "from tkinter import messagebox\n",
    "# from your_model_module import your_model_function  # Import your own model function here\n",
    "\n",
    "def process_input():\n",
    "    user_input = entry.get()\n",
    "    \n",
    "    if user_input:\n",
    "        # result = your_model_function(user_input)  # Call your model function with the input\n",
    "        result = user_input\n",
    "        messagebox.showinfo(\"Result\", f\"Model Output: {result}\")\n",
    "    else:\n",
    "        messagebox.showwarning(\"Error\", \"Please enter a valid input.\")\n",
    "\n",
    "# Create the main window\n",
    "root = tk.Tk()\n",
    "root.title(\"Model Input GUI\")\n",
    "\n",
    "# Create and place widgets\n",
    "label = tk.Label(root, text=\"Enter a string:\")\n",
    "label.pack()\n",
    "\n",
    "entry = tk.Entry(root)\n",
    "entry.pack()\n",
    "\n",
    "button = tk.Button(root, text=\"Process\", command=process_input)\n",
    "button.pack()\n",
    "\n",
    "# Start the main event loop\n",
    "root.mainloop()"
   ]
  }
 ],
 "metadata": {
  "kernelspec": {
   "display_name": "CSCN8010_classic_ml1",
   "language": "python",
   "name": "cscn8010_classic_ml1"
  },
  "language_info": {
   "codemirror_mode": {
    "name": "ipython",
    "version": 3
   },
   "file_extension": ".py",
   "mimetype": "text/x-python",
   "name": "python",
   "nbconvert_exporter": "python",
   "pygments_lexer": "ipython3",
   "version": "3.9.7"
  },
  "orig_nbformat": 4
 },
 "nbformat": 4,
 "nbformat_minor": 2
}
